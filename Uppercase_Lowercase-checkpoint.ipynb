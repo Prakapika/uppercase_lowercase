{
 "cells": [
  {
   "cell_type": "code",
   "execution_count": null,
   "id": "9bd16850",
   "metadata": {},
   "outputs": [],
   "source": []
  },
  {
   "cell_type": "code",
   "execution_count": 3,
   "id": "fecad333",
   "metadata": {},
   "outputs": [
    {
     "name": "stdout",
     "output_type": "stream",
     "text": [
      "Original string:  The quick Brown Fox\n",
      "No. of uppercase string:  3\n",
      "No. of lowercase string:  13\n"
     ]
    }
   ],
   "source": [
    "def string(str1):\n",
    "    uppercase = 0\n",
    "    lowercase = 0\n",
    "    for char in str1:\n",
    "        if char.isupper():\n",
    "            uppercase += 1\n",
    "        elif char.islower():\n",
    "            lowercase += 1\n",
    "        else:\n",
    "            pass\n",
    "    print(\"Original string: \", str1)\n",
    "    print(\"No. of uppercase string: \", uppercase)\n",
    "    print(\"No. of lowercase string: \", lowercase)\n",
    "    \n",
    "string(\"The quick Brown Fox\")"
   ]
  },
  {
   "cell_type": "code",
   "execution_count": null,
   "id": "85de4c6e",
   "metadata": {},
   "outputs": [],
   "source": []
  }
 ],
 "metadata": {
  "kernelspec": {
   "display_name": "Python 3 (ipykernel)",
   "language": "python",
   "name": "python3"
  },
  "language_info": {
   "codemirror_mode": {
    "name": "ipython",
    "version": 3
   },
   "file_extension": ".py",
   "mimetype": "text/x-python",
   "name": "python",
   "nbconvert_exporter": "python",
   "pygments_lexer": "ipython3",
   "version": "3.10.6"
  }
 },
 "nbformat": 4,
 "nbformat_minor": 5
}
